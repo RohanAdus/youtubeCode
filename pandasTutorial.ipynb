{
 "cells": [
  {
   "cell_type": "code",
   "execution_count": 3,
   "id": "db5d0bc3-fc47-4d30-8f30-954556dd4c08",
   "metadata": {
    "tags": []
   },
   "outputs": [],
   "source": [
    "import pandas as pd"
   ]
  },
  {
   "cell_type": "code",
   "execution_count": 4,
   "id": "3fb2c42a-9651-4421-a5b5-15daff3fb675",
   "metadata": {
    "tags": []
   },
   "outputs": [],
   "source": [
    "s = pd.Series([1,3,5, None, 6, 8])"
   ]
  },
  {
   "cell_type": "code",
   "execution_count": 5,
   "id": "814ac19f-74c8-4946-baf2-4f7e1d9cc372",
   "metadata": {
    "tags": []
   },
   "outputs": [],
   "source": [
    "data = [{'a': 1, 'b': 2}, {'a': 5, 'b': 10, 'c': 20}]"
   ]
  },
  {
   "cell_type": "code",
   "execution_count": 8,
   "id": "6502c9a6-9bf5-451f-a5d5-ee7f42bae001",
   "metadata": {
    "tags": []
   },
   "outputs": [],
   "source": [
    "df = pd.read_csv('spotify-2023.csv', encoding='ISO-8859-1')"
   ]
  },
  {
   "cell_type": "code",
   "execution_count": 9,
   "id": "08f5b1e2-1ee2-4203-a570-43052815f49a",
   "metadata": {
    "tags": []
   },
   "outputs": [
    {
     "name": "stdout",
     "output_type": "stream",
     "text": [
      "                            track_name     artist(s)_name  artist_count  \\\n",
      "0  Seven (feat. Latto) (Explicit Ver.)   Latto, Jung Kook             2   \n",
      "1                                 LALA        Myke Towers             1   \n",
      "2                              vampire     Olivia Rodrigo             1   \n",
      "3                         Cruel Summer       Taylor Swift             1   \n",
      "4                       WHERE SHE GOES          Bad Bunny             1   \n",
      "5                             Sprinter  Dave, Central Cee             2   \n",
      "\n",
      "   released_year  released_month  released_day  in_spotify_playlists  \\\n",
      "0           2023               7            14                   553   \n",
      "1           2023               3            23                  1474   \n",
      "2           2023               6            30                  1397   \n",
      "3           2019               8            23                  7858   \n",
      "4           2023               5            18                  3133   \n",
      "5           2023               6             1                  2186   \n",
      "\n",
      "   in_spotify_charts    streams  in_apple_playlists  ...  bpm key   mode  \\\n",
      "0                147  141381703                  43  ...  125   B  Major   \n",
      "1                 48  133716286                  48  ...   92  C#  Major   \n",
      "2                113  140003974                  94  ...  138   F  Major   \n",
      "3                100  800840817                 116  ...  170   A  Major   \n",
      "4                 50  303236322                  84  ...  144   A  Minor   \n",
      "5                 91  183706234                  67  ...  141  C#  Major   \n",
      "\n",
      "  danceability_%  valence_% energy_% acousticness_%  instrumentalness_%  \\\n",
      "0             80         89       83             31                   0   \n",
      "1             71         61       74              7                   0   \n",
      "2             51         32       53             17                   0   \n",
      "3             55         58       72             11                   0   \n",
      "4             65         23       80             14                  63   \n",
      "5             92         66       58             19                   0   \n",
      "\n",
      "   liveness_%  speechiness_%  \n",
      "0           8              4  \n",
      "1          10              4  \n",
      "2          31              6  \n",
      "3          11             15  \n",
      "4          11              6  \n",
      "5           8             24  \n",
      "\n",
      "[6 rows x 24 columns]\n"
     ]
    }
   ],
   "source": [
    "print(df.head(6))"
   ]
  },
  {
   "cell_type": "code",
   "execution_count": 10,
   "id": "b0269f51-7112-4aca-b419-cd7aab445340",
   "metadata": {
    "tags": []
   },
   "outputs": [
    {
     "name": "stdout",
     "output_type": "stream",
     "text": [
      "               track_name      artist(s)_name  artist_count  released_year  \\\n",
      "950  A Veces (feat. Feid)  Feid, Paulo Londra             2           2022   \n",
      "951         En La De Ella  Feid, Sech, Jhayco             3           2022   \n",
      "952                 Alone           Burna Boy             1           2022   \n",
      "\n",
      "     released_month  released_day  in_spotify_playlists  in_spotify_charts  \\\n",
      "950              11             3                   573                  0   \n",
      "951              10            20                  1320                  0   \n",
      "952              11             4                   782                  2   \n",
      "\n",
      "       streams  in_apple_playlists  ...  bpm key   mode danceability_%  \\\n",
      "950   73513683                   2  ...   92  C#  Major             80   \n",
      "951  133895612                  29  ...   97  C#  Major             82   \n",
      "952   96007391                  27  ...   90   E  Minor             61   \n",
      "\n",
      "     valence_% energy_% acousticness_%  instrumentalness_%  liveness_%  \\\n",
      "950         81       67              4                   0           8   \n",
      "951         67       77              8                   0          12   \n",
      "952         32       67             15                   0          11   \n",
      "\n",
      "     speechiness_%  \n",
      "950              6  \n",
      "951              5  \n",
      "952              5  \n",
      "\n",
      "[3 rows x 24 columns]\n"
     ]
    }
   ],
   "source": [
    "print(df.tail(3))"
   ]
  },
  {
   "cell_type": "code",
   "execution_count": 11,
   "id": "c4e11cc8-33b6-4d9c-8cd3-9e57496a9dea",
   "metadata": {
    "tags": []
   },
   "outputs": [
    {
     "name": "stdout",
     "output_type": "stream",
     "text": [
      "0      Seven (feat. Latto) (Explicit Ver.)\n",
      "1                                     LALA\n",
      "2                                  vampire\n",
      "3                             Cruel Summer\n",
      "4                           WHERE SHE GOES\n",
      "                      ...                 \n",
      "948                           My Mind & Me\n",
      "949              Bigger Than The Whole Sky\n",
      "950                   A Veces (feat. Feid)\n",
      "951                          En La De Ella\n",
      "952                                  Alone\n",
      "Name: track_name, Length: 953, dtype: object\n"
     ]
    }
   ],
   "source": [
    "print(df['track_name'])"
   ]
  },
  {
   "cell_type": "code",
   "execution_count": 12,
   "id": "c100f7f7-7b66-4ef5-b041-159223f9017f",
   "metadata": {
    "tags": []
   },
   "outputs": [
    {
     "name": "stdout",
     "output_type": "stream",
     "text": [
      "track_name              Seven (feat. Latto) (Explicit Ver.)\n",
      "artist(s)_name                             Latto, Jung Kook\n",
      "artist_count                                              2\n",
      "released_year                                          2023\n",
      "released_month                                            7\n",
      "released_day                                             14\n",
      "in_spotify_playlists                                    553\n",
      "in_spotify_charts                                       147\n",
      "streams                                           141381703\n",
      "in_apple_playlists                                       43\n",
      "in_apple_charts                                         263\n",
      "in_deezer_playlists                                      45\n",
      "in_deezer_charts                                         10\n",
      "in_shazam_charts                                        826\n",
      "bpm                                                     125\n",
      "key                                                       B\n",
      "mode                                                  Major\n",
      "danceability_%                                           80\n",
      "valence_%                                                89\n",
      "energy_%                                                 83\n",
      "acousticness_%                                           31\n",
      "instrumentalness_%                                        0\n",
      "liveness_%                                                8\n",
      "speechiness_%                                             4\n",
      "Name: 0, dtype: object\n"
     ]
    }
   ],
   "source": [
    "print(df.iloc[0])"
   ]
  },
  {
   "cell_type": "code",
   "execution_count": 16,
   "id": "7851fcbd-e152-4bda-95cb-6dc5df2f3eb2",
   "metadata": {
    "tags": []
   },
   "outputs": [],
   "source": [
    "df['streams'] = pd.to_numeric(df['streams'], errors='coerce')"
   ]
  },
  {
   "cell_type": "code",
   "execution_count": 23,
   "id": "5d7370bc-cc48-48e6-bc22-74fa8d20fa62",
   "metadata": {
    "tags": []
   },
   "outputs": [],
   "source": [
    "high_stream_track = df[df['streams'] > 100]"
   ]
  },
  {
   "cell_type": "code",
   "execution_count": 24,
   "id": "87bb1e9d-fddc-4a24-96dd-6a232617611b",
   "metadata": {
    "tags": []
   },
   "outputs": [
    {
     "name": "stdout",
     "output_type": "stream",
     "text": [
      "                              track_name      artist(s)_name  artist_count  \\\n",
      "0    Seven (feat. Latto) (Explicit Ver.)    Latto, Jung Kook             2   \n",
      "1                                   LALA         Myke Towers             1   \n",
      "2                                vampire      Olivia Rodrigo             1   \n",
      "3                           Cruel Summer        Taylor Swift             1   \n",
      "4                         WHERE SHE GOES           Bad Bunny             1   \n",
      "..                                   ...                 ...           ...   \n",
      "948                         My Mind & Me        Selena Gomez             1   \n",
      "949            Bigger Than The Whole Sky        Taylor Swift             1   \n",
      "950                 A Veces (feat. Feid)  Feid, Paulo Londra             2   \n",
      "951                        En La De Ella  Feid, Sech, Jhayco             3   \n",
      "952                                Alone           Burna Boy             1   \n",
      "\n",
      "     released_year  released_month  released_day  in_spotify_playlists  \\\n",
      "0             2023               7            14                   553   \n",
      "1             2023               3            23                  1474   \n",
      "2             2023               6            30                  1397   \n",
      "3             2019               8            23                  7858   \n",
      "4             2023               5            18                  3133   \n",
      "..             ...             ...           ...                   ...   \n",
      "948           2022              11             3                   953   \n",
      "949           2022              10            21                  1180   \n",
      "950           2022              11             3                   573   \n",
      "951           2022              10            20                  1320   \n",
      "952           2022              11             4                   782   \n",
      "\n",
      "     in_spotify_charts      streams  in_apple_playlists  ...  bpm key   mode  \\\n",
      "0                  147  141381703.0                  43  ...  125   B  Major   \n",
      "1                   48  133716286.0                  48  ...   92  C#  Major   \n",
      "2                  113  140003974.0                  94  ...  138   F  Major   \n",
      "3                  100  800840817.0                 116  ...  170   A  Major   \n",
      "4                   50  303236322.0                  84  ...  144   A  Minor   \n",
      "..                 ...          ...                 ...  ...  ...  ..    ...   \n",
      "948                  0   91473363.0                  61  ...  144   A  Major   \n",
      "949                  0  121871870.0                   4  ...  166  F#  Major   \n",
      "950                  0   73513683.0                   2  ...   92  C#  Major   \n",
      "951                  0  133895612.0                  29  ...   97  C#  Major   \n",
      "952                  2   96007391.0                  27  ...   90   E  Minor   \n",
      "\n",
      "    danceability_%  valence_% energy_% acousticness_%  instrumentalness_%  \\\n",
      "0               80         89       83             31                   0   \n",
      "1               71         61       74              7                   0   \n",
      "2               51         32       53             17                   0   \n",
      "3               55         58       72             11                   0   \n",
      "4               65         23       80             14                  63   \n",
      "..             ...        ...      ...            ...                 ...   \n",
      "948             60         24       39             57                   0   \n",
      "949             42          7       24             83                   1   \n",
      "950             80         81       67              4                   0   \n",
      "951             82         67       77              8                   0   \n",
      "952             61         32       67             15                   0   \n",
      "\n",
      "     liveness_%  speechiness_%  \n",
      "0             8              4  \n",
      "1            10              4  \n",
      "2            31              6  \n",
      "3            11             15  \n",
      "4            11              6  \n",
      "..          ...            ...  \n",
      "948           8              3  \n",
      "949          12              6  \n",
      "950           8              6  \n",
      "951          12              5  \n",
      "952          11              5  \n",
      "\n",
      "[952 rows x 24 columns]\n"
     ]
    }
   ],
   "source": [
    "print(high_stream_track)"
   ]
  },
  {
   "cell_type": "code",
   "execution_count": 25,
   "id": "922c829e-1898-4276-8891-de99411f8e4c",
   "metadata": {
    "tags": []
   },
   "outputs": [],
   "source": [
    "new_and_popular_tracks = df[(df['released_year'] == 2023) & (df['streams'] > 1000000)]"
   ]
  },
  {
   "cell_type": "code",
   "execution_count": 26,
   "id": "8cb11f74-a3bd-4dea-955e-6603af3b1c0f",
   "metadata": {
    "tags": []
   },
   "outputs": [
    {
     "name": "stdout",
     "output_type": "stream",
     "text": [
      "                              track_name  \\\n",
      "0    Seven (feat. Latto) (Explicit Ver.)   \n",
      "1                                   LALA   \n",
      "2                                vampire   \n",
      "4                         WHERE SHE GOES   \n",
      "5                               Sprinter   \n",
      "..                                   ...   \n",
      "381         I'm Not Here To Make Friends   \n",
      "382                            TRUSTFALL   \n",
      "385            VIBE (feat. Jimin of BTS)   \n",
      "398                             Muï¿½ï¿½   \n",
      "404                      Sugar Rush Ride   \n",
      "\n",
      "                             artist(s)_name  artist_count  released_year  \\\n",
      "0                          Latto, Jung Kook             2           2023   \n",
      "1                               Myke Towers             1           2023   \n",
      "2                            Olivia Rodrigo             1           2023   \n",
      "4                                 Bad Bunny             1           2023   \n",
      "5                         Dave, Central Cee             2           2023   \n",
      "..                                      ...           ...            ...   \n",
      "381  Sam Smith, Calvin Harris, Jessie Reyez             3           2023   \n",
      "382                                    P!nk             1           2023   \n",
      "385                          TAEYANG, Jimin             2           2023   \n",
      "398             Steve Aoki, Tini, La Joaqui             3           2023   \n",
      "404                     TOMORROW X TOGETHER             1           2023   \n",
      "\n",
      "     released_month  released_day  in_spotify_playlists  in_spotify_charts  \\\n",
      "0                 7            14                   553                147   \n",
      "1                 3            23                  1474                 48   \n",
      "2                 6            30                  1397                113   \n",
      "4                 5            18                  3133                 50   \n",
      "5                 6             1                  2186                 91   \n",
      "..              ...           ...                   ...                ...   \n",
      "381               1            27                  1890                  0   \n",
      "382               1            27                  2098                 16   \n",
      "385               1            13                   415                  2   \n",
      "398               1            12                   658                  6   \n",
      "404               1            27                   359                  0   \n",
      "\n",
      "         streams  in_apple_playlists  ...  bpm  key   mode danceability_%  \\\n",
      "0    141381703.0                  43  ...  125    B  Major             80   \n",
      "1    133716286.0                  48  ...   92   C#  Major             71   \n",
      "2    140003974.0                  94  ...  138    F  Major             51   \n",
      "4    303236322.0                  84  ...  144    A  Minor             65   \n",
      "5    183706234.0                  67  ...  141   C#  Major             92   \n",
      "..           ...                 ...  ...  ...  ...    ...            ...   \n",
      "381  103787664.0                  86  ...  115  NaN  Major             70   \n",
      "382  134255790.0                  88  ...  122   G#  Major             64   \n",
      "385  152850295.0                  15  ...  100  NaN  Major             79   \n",
      "398  120972253.0                  33  ...   90   A#  Minor             68   \n",
      "404  107642809.0                  12  ...  125   A#  Minor             71   \n",
      "\n",
      "     valence_% energy_% acousticness_%  instrumentalness_%  liveness_%  \\\n",
      "0           89       83             31                   0           8   \n",
      "1           61       74              7                   0          10   \n",
      "2           32       53             17                   0          31   \n",
      "4           23       80             14                  63          11   \n",
      "5           66       58             19                   0           8   \n",
      "..         ...      ...            ...                 ...         ...   \n",
      "381         84       90             17                   0          41   \n",
      "382         25       89              0                   0          15   \n",
      "385         60       68              7                   0          26   \n",
      "398         83       71              3                   0          31   \n",
      "404         83       89              1                   0          17   \n",
      "\n",
      "     speechiness_%  \n",
      "0                4  \n",
      "1                4  \n",
      "2                6  \n",
      "4                6  \n",
      "5               24  \n",
      "..             ...  \n",
      "381              6  \n",
      "382              9  \n",
      "385              4  \n",
      "398              8  \n",
      "404              9  \n",
      "\n",
      "[175 rows x 24 columns]\n"
     ]
    }
   ],
   "source": [
    "print(new_and_popular_tracks)"
   ]
  },
  {
   "cell_type": "code",
   "execution_count": null,
   "id": "b3929c11-86ac-43de-b8bb-fd8a954f6787",
   "metadata": {},
   "outputs": [],
   "source": [
    "# Group by artist name and calculate the mean of those streams"
   ]
  },
  {
   "cell_type": "code",
   "execution_count": 27,
   "id": "a8ab8858-4cef-4547-94ec-da4ba87f5fbf",
   "metadata": {
    "tags": []
   },
   "outputs": [],
   "source": [
    "average_streams_per_artist = df.groupby('artist(s)_name')['streams'].mean()"
   ]
  },
  {
   "cell_type": "code",
   "execution_count": 29,
   "id": "ea859c07-e731-4c94-a4c8-715e75e2ebfd",
   "metadata": {
    "tags": []
   },
   "outputs": [
    {
     "name": "stdout",
     "output_type": "stream",
     "text": [
      "artist(s)_name\n",
      "(G)I-DLE                                          13.349167\n",
      "21 Savage, Gunna                                   6.068094\n",
      "24kgoldn, Iann Dior                              169.940240\n",
      "50 Cent                                          120.272267\n",
      "A$AP Rocky, Metro Boomin, Roisee                   9.418647\n",
      "                                                    ...    \n",
      "j-hope                                            15.579578\n",
      "j-hope, J. Cole                                   11.659979\n",
      "sped up 8282                                      10.376252\n",
      "sped up nightcore, ARIZONATEARS, Lil Uzi Vert     20.703325\n",
      "teto                                              13.919381\n",
      "Name: streams, Length: 645, dtype: float64\n"
     ]
    }
   ],
   "source": [
    "print(average_streams_per_artist/10000000)"
   ]
  },
  {
   "cell_type": "code",
   "execution_count": null,
   "id": "11a7ea30-8973-482a-b66d-4019ec111816",
   "metadata": {},
   "outputs": [],
   "source": [
    "# Group by artist and release year"
   ]
  },
  {
   "cell_type": "code",
   "execution_count": 30,
   "id": "3b6f840f-6e21-4403-9b57-a967c90294cd",
   "metadata": {
    "tags": []
   },
   "outputs": [],
   "source": [
    "groupedArtist = df.groupby(['artist(s)_name', 'released_year'])"
   ]
  },
  {
   "cell_type": "code",
   "execution_count": 31,
   "id": "80568749-ce25-4f70-9dcd-270f05fdfa0b",
   "metadata": {
    "tags": []
   },
   "outputs": [
    {
     "name": "stdout",
     "output_type": "stream",
     "text": [
      "artist(s)_name                                 released_year\n",
      "(G)I-DLE                                       2022             1\n",
      "                                               2023             1\n",
      "21 Savage, Gunna                               2022             1\n",
      "24kgoldn, Iann Dior                            2020             1\n",
      "50 Cent                                        2002             1\n",
      "                                                               ..\n",
      "j-hope                                         2022             1\n",
      "j-hope, J. Cole                                2023             1\n",
      "sped up 8282                                   1997             1\n",
      "sped up nightcore, ARIZONATEARS, Lil Uzi Vert  2023             1\n",
      "teto                                           2022             1\n",
      "Length: 755, dtype: int64\n"
     ]
    }
   ],
   "source": [
    "print(groupedArtist.size()) # this shows the number of tracks per artist"
   ]
  },
  {
   "cell_type": "code",
   "execution_count": null,
   "id": "369d489f-03fa-485c-aea3-8ddb4ebf7a72",
   "metadata": {},
   "outputs": [],
   "source": [
    "# Descriptive Statics"
   ]
  },
  {
   "cell_type": "code",
   "execution_count": 33,
   "id": "be766aeb-ad8f-428f-969d-68dc2db1effb",
   "metadata": {
    "tags": []
   },
   "outputs": [
    {
     "name": "stdout",
     "output_type": "stream",
     "text": [
      "count    953.000000\n",
      "mean       1.556139\n",
      "std        0.893044\n",
      "min        1.000000\n",
      "25%        1.000000\n",
      "50%        1.000000\n",
      "75%        2.000000\n",
      "max        8.000000\n",
      "Name: artist_count, dtype: float64\n"
     ]
    }
   ],
   "source": [
    "print(df['artist_count'].describe())"
   ]
  },
  {
   "cell_type": "code",
   "execution_count": 34,
   "id": "d70756d1-e9f9-4a1e-ad6b-97c8c3d742c3",
   "metadata": {
    "tags": []
   },
   "outputs": [],
   "source": [
    "df['artist'] = df['artist(s)_name'].str.split(',')"
   ]
  },
  {
   "cell_type": "code",
   "execution_count": 36,
   "id": "1862d7fe-d28e-42de-af2c-de8f62532396",
   "metadata": {
    "tags": []
   },
   "outputs": [
    {
     "name": "stdout",
     "output_type": "stream",
     "text": [
      "0         [Latto,  Jung Kook]\n",
      "1               [Myke Towers]\n",
      "2            [Olivia Rodrigo]\n",
      "3              [Taylor Swift]\n",
      "4                 [Bad Bunny]\n",
      "                ...          \n",
      "948            [Selena Gomez]\n",
      "949            [Taylor Swift]\n",
      "950     [Feid,  Paulo Londra]\n",
      "951    [Feid,  Sech,  Jhayco]\n",
      "952               [Burna Boy]\n",
      "Name: artist, Length: 953, dtype: object\n"
     ]
    }
   ],
   "source": [
    "print(df['artist'])"
   ]
  },
  {
   "cell_type": "code",
   "execution_count": null,
   "id": "d89d242c-1319-4e2a-a19b-33d67535a465",
   "metadata": {},
   "outputs": [],
   "source": [
    "# pivot table here"
   ]
  },
  {
   "cell_type": "code",
   "execution_count": 37,
   "id": "295f0ed3-39df-44e7-9cf0-82252c93b224",
   "metadata": {
    "tags": []
   },
   "outputs": [],
   "source": [
    "pivot_table = df.pivot_table(values='streams', index='artist(s)_name', columns='released_year', aggfunc='mean')"
   ]
  },
  {
   "cell_type": "code",
   "execution_count": 38,
   "id": "463aede7-e035-4ae3-8968-47166c2b429c",
   "metadata": {
    "tags": []
   },
   "outputs": [
    {
     "name": "stdout",
     "output_type": "stream",
     "text": [
      "released_year                                  1930  1942  1946  1950  1952  \\\n",
      "artist(s)_name                                                                \n",
      "(G)I-DLE                                        NaN   NaN   NaN   NaN   NaN   \n",
      "21 Savage, Gunna                                NaN   NaN   NaN   NaN   NaN   \n",
      "24kgoldn, Iann Dior                             NaN   NaN   NaN   NaN   NaN   \n",
      "50 Cent                                         NaN   NaN   NaN   NaN   NaN   \n",
      "A$AP Rocky, Metro Boomin, Roisee                NaN   NaN   NaN   NaN   NaN   \n",
      "...                                             ...   ...   ...   ...   ...   \n",
      "j-hope                                          NaN   NaN   NaN   NaN   NaN   \n",
      "j-hope, J. Cole                                 NaN   NaN   NaN   NaN   NaN   \n",
      "sped up 8282                                    NaN   NaN   NaN   NaN   NaN   \n",
      "sped up nightcore, ARIZONATEARS, Lil Uzi Vert   NaN   NaN   NaN   NaN   NaN   \n",
      "teto                                            NaN   NaN   NaN   NaN   NaN   \n",
      "\n",
      "released_year                                  1957  1958  1959  1963  1968  \\\n",
      "artist(s)_name                                                                \n",
      "(G)I-DLE                                        NaN   NaN   NaN   NaN   NaN   \n",
      "21 Savage, Gunna                                NaN   NaN   NaN   NaN   NaN   \n",
      "24kgoldn, Iann Dior                             NaN   NaN   NaN   NaN   NaN   \n",
      "50 Cent                                         NaN   NaN   NaN   NaN   NaN   \n",
      "A$AP Rocky, Metro Boomin, Roisee                NaN   NaN   NaN   NaN   NaN   \n",
      "...                                             ...   ...   ...   ...   ...   \n",
      "j-hope                                          NaN   NaN   NaN   NaN   NaN   \n",
      "j-hope, J. Cole                                 NaN   NaN   NaN   NaN   NaN   \n",
      "sped up 8282                                    NaN   NaN   NaN   NaN   NaN   \n",
      "sped up nightcore, ARIZONATEARS, Lil Uzi Vert   NaN   NaN   NaN   NaN   NaN   \n",
      "teto                                            NaN   NaN   NaN   NaN   NaN   \n",
      "\n",
      "released_year                                  ...  2014  2015  2016  2017  \\\n",
      "artist(s)_name                                 ...                           \n",
      "(G)I-DLE                                       ...   NaN   NaN   NaN   NaN   \n",
      "21 Savage, Gunna                               ...   NaN   NaN   NaN   NaN   \n",
      "24kgoldn, Iann Dior                            ...   NaN   NaN   NaN   NaN   \n",
      "50 Cent                                        ...   NaN   NaN   NaN   NaN   \n",
      "A$AP Rocky, Metro Boomin, Roisee               ...   NaN   NaN   NaN   NaN   \n",
      "...                                            ...   ...   ...   ...   ...   \n",
      "j-hope                                         ...   NaN   NaN   NaN   NaN   \n",
      "j-hope, J. Cole                                ...   NaN   NaN   NaN   NaN   \n",
      "sped up 8282                                   ...   NaN   NaN   NaN   NaN   \n",
      "sped up nightcore, ARIZONATEARS, Lil Uzi Vert  ...   NaN   NaN   NaN   NaN   \n",
      "teto                                           ...   NaN   NaN   NaN   NaN   \n",
      "\n",
      "released_year                                  2018  2019          2020  2021  \\\n",
      "artist(s)_name                                                                  \n",
      "(G)I-DLE                                        NaN   NaN           NaN   NaN   \n",
      "21 Savage, Gunna                                NaN   NaN           NaN   NaN   \n",
      "24kgoldn, Iann Dior                             NaN   NaN  1.699402e+09   NaN   \n",
      "50 Cent                                         NaN   NaN           NaN   NaN   \n",
      "A$AP Rocky, Metro Boomin, Roisee                NaN   NaN           NaN   NaN   \n",
      "...                                             ...   ...           ...   ...   \n",
      "j-hope                                          NaN   NaN           NaN   NaN   \n",
      "j-hope, J. Cole                                 NaN   NaN           NaN   NaN   \n",
      "sped up 8282                                    NaN   NaN           NaN   NaN   \n",
      "sped up nightcore, ARIZONATEARS, Lil Uzi Vert   NaN   NaN           NaN   NaN   \n",
      "teto                                            NaN   NaN           NaN   NaN   \n",
      "\n",
      "released_year                                         2022         2023  \n",
      "artist(s)_name                                                           \n",
      "(G)I-DLE                                       170709584.0   96273746.0  \n",
      "21 Savage, Gunna                                60680939.0          NaN  \n",
      "24kgoldn, Iann Dior                                    NaN          NaN  \n",
      "50 Cent                                                NaN          NaN  \n",
      "A$AP Rocky, Metro Boomin, Roisee                       NaN   94186466.0  \n",
      "...                                                    ...          ...  \n",
      "j-hope                                         155795783.0          NaN  \n",
      "j-hope, J. Cole                                        NaN  116599790.0  \n",
      "sped up 8282                                           NaN          NaN  \n",
      "sped up nightcore, ARIZONATEARS, Lil Uzi Vert          NaN  207033255.0  \n",
      "teto                                           139193812.0          NaN  \n",
      "\n",
      "[644 rows x 50 columns]\n"
     ]
    }
   ],
   "source": [
    "print(pivot_table)"
   ]
  },
  {
   "cell_type": "code",
   "execution_count": 39,
   "id": "5a1abc94-a4df-4839-8b1d-7c2de285fc04",
   "metadata": {
    "tags": []
   },
   "outputs": [],
   "source": [
    "pivot_table_filled = pivot_table.fillna(0)"
   ]
  },
  {
   "cell_type": "code",
   "execution_count": 40,
   "id": "70c31a1a-6373-450d-b280-d8a39f58c66a",
   "metadata": {
    "tags": []
   },
   "outputs": [],
   "source": [
    "threshold = len(pivot_table) *0.8 # 80% are non null"
   ]
  },
  {
   "cell_type": "code",
   "execution_count": 41,
   "id": "6dccff11-73cd-4d0d-ad47-7ee45cd01f13",
   "metadata": {
    "tags": []
   },
   "outputs": [],
   "source": [
    "pivot_table_dropped = pivot_table.dropna(axis=1, thresh=threshold)"
   ]
  },
  {
   "cell_type": "code",
   "execution_count": 42,
   "id": "3980b17a-a11d-49cc-8ffd-56f84247ff13",
   "metadata": {
    "tags": []
   },
   "outputs": [
    {
     "name": "stdout",
     "output_type": "stream",
     "text": [
      "Empty DataFrame\n",
      "Columns: []\n",
      "Index: [(G)I-DLE, 21 Savage, Gunna, 24kgoldn, Iann Dior, 50 Cent, A$AP Rocky, Metro Boomin, Roisee, Abhijay Sharma, Riar Saab, Adassa, Mauro Castillo, Stephanie Beatriz, Encanto - Cast, Rhenzy Feliz, Diane Guerrero, Carolina Gaitan, Adele, Aerosmith, Agust D, Aitana, zzoilo, Ak4:20, Cris Mj, Pailita, Alec Benjamin, Alvaro Diaz, Rauw Alejandro, Ana Castela, AgroPlay, Andy Williams, Anggi Marito, Anitta, Anitta, Tini, Becky G, AnnenMayKantereit, Giant Rooks, Anuel Aa, Jhay Cortez, Anuel Aa, Myke Towers, Jhay Cortez, Arcangel, Bad Bunny, Arcangel, Bizarrap, Arcangel, De La Ghetto, Justin Quiles, Lenny Tavï¿½ï¿½rez, Sech, Dalex, Dimelo Flow, Rich Music, Arctic Monkeys, Ariana Grande, Ariana Grande, The Weeknd, Arijit Singh, Sachin-Jigar, Arijit Singh, Sachin-Jigar, Amitabha Bhattacharya, Arijit Singh, Vishal Dadlani, Sukriti Kakar, Vishal-Shekhar, Shekhar Ravjiani, Kumaar, Armani White, Aventura, Bad Bunny, Avicii, Ayparia, unxbected, BIGBANG, BLACKPINK, BLESSD, Peso Pluma, BTS, BTS, Jung Kook, FIFA Sound, BYOR, Imanbek, Baby Rasta, Rauw Alejandro, Baby Tate, Bad Bunny, Bad Bunny, Eladio Carrion, Bad Bunny, Grupo Frontera, Bad Bunny, Jhay Cortez, Bad Bunny, Rauw Alejandro, Bad Bunny, Tainy, Bad Bunny, The Marï¿½ï, Band Aid, Beach House, Beach Weather, Bebe Rexha, David Guetta, Becky G, Peso Pluma, Bellakath, Benson Boone, Beyoncï¿, Big One, Duki, Lit Killah, Maria Becerra, FMK, Rusherking, Emilia, Tiago pzk, Big One, FMK, Ke personajes, Billie Eilish, Billie Eilish, Khalid, Bing Crosby, John Scott Trotter & His Orchestra, Ken Darby Singers, Bizarrap, Paulo Londra, Bizarrap, Peso Pluma, Bizarrap, Quevedo, Bizarrap, Tiago pzk, Bizarrap, Villano Antillano, Blackbear, BoyWithUke, Bobby Helms, Bomba Estï¿½ï¿½reo, Bad B, BoyWithUke, Brenda Lee, Britney Spears, Brray, Rauw Alejandro, Lyanno, Bruno Mars, Bruno Mars, Anderson .Paak, Silk Sonic, Burl Ives, Burna Boy, Buscabulla, Bad Bunny, C. Tangana, Calvin Harris, Dua Lipa, Calvin Harris, Dua Lipa, Young Thug, Calvin Harris, Ellie Goulding, Calvin Harris, Halsey, Pharrell Williams, Justin Timberlake, Camila Cabello, Ed Sheeran, Camila Cabello, Willow, Carin Leon, Carin Leon, Grupo Frontera, Cartel De Santa, La Kelly, Central Cee, Chanel, Charli XCX, Jax Jones, Joel Corry, Saweetie, Charlie Puth, Charlie Puth, BTS, Jung Kook, Chase Atlantic, Chencho Corleone, Bad Bunny, Chencho Corleone, Rauw Alejandro, Cherish, ACRAZE, Childish Gambino, ...]\n",
      "\n",
      "[644 rows x 0 columns]\n"
     ]
    }
   ],
   "source": [
    "print(pivot_table_dropped)"
   ]
  },
  {
   "cell_type": "code",
   "execution_count": null,
   "id": "755aeb2b-1d3c-4625-b519-263882ce4e57",
   "metadata": {},
   "outputs": [],
   "source": []
  }
 ],
 "metadata": {
  "kernelspec": {
   "display_name": "Python 3 (ipykernel)",
   "language": "python",
   "name": "python3"
  },
  "language_info": {
   "codemirror_mode": {
    "name": "ipython",
    "version": 3
   },
   "file_extension": ".py",
   "mimetype": "text/x-python",
   "name": "python",
   "nbconvert_exporter": "python",
   "pygments_lexer": "ipython3",
   "version": "3.11.5"
  }
 },
 "nbformat": 4,
 "nbformat_minor": 5
}
